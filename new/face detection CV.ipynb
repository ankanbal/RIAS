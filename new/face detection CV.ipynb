{
 "cells": [
  {
   "cell_type": "code",
   "execution_count": 1,
   "metadata": {},
   "outputs": [],
   "source": [
    "import cv2\n",
    "cap=cv2.VideoCapture(0)\n",
    "face_model=cv2.CascadeClassifier(\"haarcascade_frontalface_default.xml\")\n",
    "while True:\n",
    "    ret,photo=cap.read()\n",
    "    xy=face_model.detectMultiScale(photo)\n",
    "    if len(xy)==1:\n",
    "        x0=xy[0][0]\n",
    "        x1=xy[0][0]+xy[0][2]\n",
    "        y0=xy[0][1]\n",
    "        y1=xy[0][1]+xy[0][3]\n",
    "        cv2.rectangle(photo,(x0,y0),(x1,y1),(0,255,0),1)\n",
    "        cv2.imshow(\"hi\",photo)\n",
    "        if cv2.waitKey(1)==13:\n",
    "            break\n",
    "cv2.destroyAllWindows()\n",
    "cap.release()"
   ]
  },
  {
   "cell_type": "code",
   "execution_count": 1,
   "metadata": {},
   "outputs": [],
   "source": [
    "import cv2\n",
    "cap=cv2.VideoCapture(0)\n",
    "ret,photo=cap.read()\n",
    "cv2.imshow(\"hi\",photo)\n",
    "cv2.waitKey(2000)\n",
    "cv2.destroyAllWindows()\n",
    "cap.release()"
   ]
  },
  {
   "cell_type": "code",
   "execution_count": 17,
   "metadata": {},
   "outputs": [
    {
     "data": {
      "text/plain": [
       "array([[261, 166, 198, 198]], dtype=int32)"
      ]
     },
     "execution_count": 17,
     "metadata": {},
     "output_type": "execute_result"
    }
   ],
   "source": [
    "import numpy as np\n",
    "face_model=cv2.CascadeClassifier(\"/root/Desktop/haarcascade_frontalface_default.xml\")\n",
    "xy=face_model.detectMultiScale(photo)\n",
    "xy"
   ]
  },
  {
   "cell_type": "code",
   "execution_count": null,
   "metadata": {},
   "outputs": [],
   "source": [
    "cv2.rectangle(photo,(xy[0][0],xy[0][1]),(xy[0][0]+xy[0][2],xy[0][1]+xy[0][3]),(0,255,0),1)\n",
    "cv2.imshow(\"hi\",photo)\n",
    "cv2.waitKey()\n",
    "cv2.destroyAllWindows()"
   ]
  },
  {
   "cell_type": "code",
   "execution_count": null,
   "metadata": {},
   "outputs": [],
   "source": [
    "cap.release()"
   ]
  }
 ],
 "metadata": {
  "kernelspec": {
   "display_name": "Python 3",
   "language": "python",
   "name": "python3"
  },
  "language_info": {
   "codemirror_mode": {
    "name": "ipython",
    "version": 3
   },
   "file_extension": ".py",
   "mimetype": "text/x-python",
   "name": "python",
   "nbconvert_exporter": "python",
   "pygments_lexer": "ipython3",
   "version": "3.7.0"
  }
 },
 "nbformat": 4,
 "nbformat_minor": 2
}
