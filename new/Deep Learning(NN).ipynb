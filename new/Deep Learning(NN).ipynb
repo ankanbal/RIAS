{
 "cells": [
  {
   "cell_type": "code",
   "execution_count": 1,
   "metadata": {},
   "outputs": [
    {
     "ename": "ModuleNotFoundError",
     "evalue": "No module named 'keras'",
     "output_type": "error",
     "traceback": [
      "\u001b[1;31m---------------------------------------------------------------------------\u001b[0m",
      "\u001b[1;31mModuleNotFoundError\u001b[0m                       Traceback (most recent call last)",
      "\u001b[1;32m<ipython-input-1-f13db7ff3ab2>\u001b[0m in \u001b[0;36m<module>\u001b[1;34m()\u001b[0m\n\u001b[1;32m----> 1\u001b[1;33m \u001b[1;32mfrom\u001b[0m \u001b[0mkeras\u001b[0m\u001b[1;33m.\u001b[0m\u001b[0mmodels\u001b[0m \u001b[1;32mimport\u001b[0m \u001b[0mSequential\u001b[0m\u001b[1;33m\u001b[0m\u001b[0m\n\u001b[0m\u001b[0;32m      2\u001b[0m \u001b[1;32mfrom\u001b[0m \u001b[0mkeras\u001b[0m\u001b[1;33m.\u001b[0m\u001b[0mlayers\u001b[0m \u001b[1;32mimport\u001b[0m \u001b[0mDense\u001b[0m\u001b[1;33m\u001b[0m\u001b[0m\n\u001b[0;32m      3\u001b[0m \u001b[1;32mfrom\u001b[0m \u001b[0mkeras\u001b[0m\u001b[1;33m.\u001b[0m\u001b[0moptimizers\u001b[0m \u001b[1;32mimport\u001b[0m \u001b[0mAdam\u001b[0m\u001b[1;33m,\u001b[0m \u001b[0mSGD\u001b[0m\u001b[1;33m\u001b[0m\u001b[0m\n\u001b[0;32m      4\u001b[0m \u001b[1;32mimport\u001b[0m \u001b[0mpandas\u001b[0m \u001b[1;32mas\u001b[0m \u001b[0mpd\u001b[0m\u001b[1;33m\u001b[0m\u001b[0m\n\u001b[0;32m      5\u001b[0m \u001b[1;32mimport\u001b[0m \u001b[0mmatplotlib\u001b[0m\u001b[1;33m.\u001b[0m\u001b[0mpyplot\u001b[0m \u001b[1;32mas\u001b[0m \u001b[0mplt\u001b[0m\u001b[1;33m\u001b[0m\u001b[0m\n",
      "\u001b[1;31mModuleNotFoundError\u001b[0m: No module named 'keras'"
     ]
    }
   ],
   "source": [
    "from keras.models import Sequential\n",
    "from keras.layers import Dense\n",
    "from keras.optimizers import Adam, SGD\n",
    "import pandas as pd\n",
    "import matplotlib.pyplot as plt"
   ]
  },
  {
   "cell_type": "code",
   "execution_count": 15,
   "metadata": {},
   "outputs": [
    {
     "name": "stdout",
     "output_type": "stream",
     "text": [
      "_________________________________________________________________\n",
      "Layer (type)                 Output Shape              Param #   \n",
      "=================================================================\n",
      "dense_2 (Dense)              (None, 1)                 2         \n",
      "=================================================================\n",
      "Total params: 2\n",
      "Trainable params: 2\n",
      "Non-trainable params: 0\n",
      "_________________________________________________________________\n"
     ]
    }
   ],
   "source": [
    "model=Sequential()\n",
    "#units->y  input_shape->x\n",
    "#Dense(): adds hidden layers, using more will add more layers\n",
    "model.add(Dense(units=1,input_shape=(1,)))\n",
    "model.summary()\n",
    "model.compile(optimizer=Adam(lr=0.8),loss='mean_squared_error')"
   ]
  },
  {
   "cell_type": "code",
   "execution_count": 16,
   "metadata": {},
   "outputs": [],
   "source": [
    "dataset=pd.read_csv(\"/root/new/weight-height.csv\")\n",
    "y=dataset.iloc[:,-1]\n",
    "X=dataset.iloc[:,1]"
   ]
  },
  {
   "cell_type": "code",
   "execution_count": 17,
   "metadata": {},
   "outputs": [
    {
     "data": {
      "text/plain": [
       "<matplotlib.axes._subplots.AxesSubplot at 0x7f29141198d0>"
      ]
     },
     "execution_count": 17,
     "metadata": {},
     "output_type": "execute_result"
    },
    {
     "data": {
      "image/png": "[encoded data removed]",
      "text/plain": [
       "<Figure size 432x288 with 1 Axes>"
      ]
     },
     "metadata": {
      "needs_background": "light"
     },
     "output_type": "display_data"
    }
   ],
   "source": [
    "dataset.plot(kind='scatter',x='Height',y='Weight')"
   ]
  },
  {
   "cell_type": "code",
   "execution_count": 18,
   "metadata": {},
   "outputs": [
    {
     "name": "stdout",
     "output_type": "stream",
     "text": [
      "Epoch 1/40\n",
      "10000/10000 [==============================] - 5s 473us/step - loss: 974.8777\n",
      "Epoch 2/40\n",
      "10000/10000 [==============================] - 3s 317us/step - loss: 552.3288\n",
      "Epoch 3/40\n",
      "10000/10000 [==============================] - 3s 334us/step - loss: 528.0437\n",
      "Epoch 4/40\n",
      "10000/10000 [==============================] - 3s 301us/step - loss: 480.9657\n",
      "Epoch 5/40\n",
      "10000/10000 [==============================] - 3s 296us/step - loss: 427.2350\n",
      "Epoch 6/40\n",
      "10000/10000 [==============================] - 3s 281us/step - loss: 382.8662\n",
      "Epoch 7/40\n",
      "10000/10000 [==============================] - 3s 264us/step - loss: 366.6744\n",
      "Epoch 8/40\n",
      "10000/10000 [==============================] - 3s 321us/step - loss: 313.9643\n",
      "Epoch 9/40\n",
      "10000/10000 [==============================] - 3s 284us/step - loss: 303.1205\n",
      "Epoch 10/40\n",
      "10000/10000 [==============================] - 3s 285us/step - loss: 263.0451\n",
      "Epoch 11/40\n",
      "10000/10000 [==============================] - 3s 277us/step - loss: 250.2076\n",
      "Epoch 12/40\n",
      "10000/10000 [==============================] - 4s 352us/step - loss: 236.2500\n",
      "Epoch 13/40\n",
      "10000/10000 [==============================] - 3s 274us/step - loss: 225.2877\n",
      "Epoch 14/40\n",
      "10000/10000 [==============================] - 3s 281us/step - loss: 208.1622\n",
      "Epoch 15/40\n",
      "10000/10000 [==============================] - 3s 274us/step - loss: 201.3827\n",
      "Epoch 16/40\n",
      "10000/10000 [==============================] - 3s 271us/step - loss: 199.9287\n",
      "Epoch 17/40\n",
      "10000/10000 [==============================] - 3s 300us/step - loss: 205.2404\n",
      "Epoch 18/40\n",
      "10000/10000 [==============================] - 3s 292us/step - loss: 190.6528\n",
      "Epoch 19/40\n",
      "10000/10000 [==============================] - 3s 285us/step - loss: 187.9043\n",
      "Epoch 20/40\n",
      "10000/10000 [==============================] - 3s 306us/step - loss: 183.5905\n",
      "Epoch 21/40\n",
      "10000/10000 [==============================] - 3s 319us/step - loss: 187.6597 0s - loss: 1\n",
      "Epoch 22/40\n",
      "10000/10000 [==============================] - 3s 265us/step - loss: 183.3078\n",
      "Epoch 23/40\n",
      "10000/10000 [==============================] - 3s 269us/step - loss: 181.2091\n",
      "Epoch 24/40\n",
      "10000/10000 [==============================] - 3s 273us/step - loss: 174.5625\n",
      "Epoch 25/40\n",
      "10000/10000 [==============================] - 3s 299us/step - loss: 187.3906\n",
      "Epoch 26/40\n",
      "10000/10000 [==============================] - 3s 271us/step - loss: 187.8118\n",
      "Epoch 27/40\n",
      "10000/10000 [==============================] - 3s 300us/step - loss: 181.7076\n",
      "Epoch 28/40\n",
      "10000/10000 [==============================] - 3s 290us/step - loss: 178.9428\n",
      "Epoch 29/40\n",
      "10000/10000 [==============================] - 3s 274us/step - loss: 184.0261\n",
      "Epoch 30/40\n",
      "10000/10000 [==============================] - 3s 285us/step - loss: 170.7008\n",
      "Epoch 31/40\n",
      "10000/10000 [==============================] - 3s 272us/step - loss: 174.9881\n",
      "Epoch 32/40\n",
      "10000/10000 [==============================] - 3s 308us/step - loss: 169.7245\n",
      "Epoch 33/40\n",
      "10000/10000 [==============================] - 3s 325us/step - loss: 169.7070\n",
      "Epoch 34/40\n",
      "10000/10000 [==============================] - 3s 280us/step - loss: 184.3620\n",
      "Epoch 35/40\n",
      "10000/10000 [==============================] - 3s 275us/step - loss: 186.6190\n",
      "Epoch 36/40\n",
      "10000/10000 [==============================] - 3s 283us/step - loss: 172.7417\n",
      "Epoch 37/40\n",
      "10000/10000 [==============================] - 3s 303us/step - loss: 170.8789\n",
      "Epoch 38/40\n",
      "10000/10000 [==============================] - 3s 287us/step - loss: 175.8588\n",
      "Epoch 39/40\n",
      "10000/10000 [==============================] - 3s 294us/step - loss: 174.5673\n",
      "Epoch 40/40\n",
      "10000/10000 [==============================] - 3s 288us/step - loss: 179.4013\n"
     ]
    },
    {
     "data": {
      "text/plain": [
       "<keras.callbacks.History at 0x7f2914f8f5c0>"
      ]
     },
     "execution_count": 18,
     "metadata": {},
     "output_type": "execute_result"
    }
   ],
   "source": [
    "model.fit(X,y,epochs=40)"
   ]
  },
  {
   "cell_type": "code",
   "execution_count": 22,
   "metadata": {},
   "outputs": [
    {
     "data": {
      "text/plain": [
       "[<matplotlib.lines.Line2D at 0x7f290c61fb38>]"
      ]
     },
     "execution_count": 22,
     "metadata": {},
     "output_type": "execute_result"
    },
    {
     "data": {
      "image/png": "[encoded data removed]",
      "text/plain": [
       "<Figure size 432x288 with 1 Axes>"
      ]
     },
     "metadata": {
      "needs_background": "light"
     },
     "output_type": "display_data"
    }
   ],
   "source": [
    "y_pre=model.predict(X)\n",
    "#dataset.plot(kind='scatter',x='Height',y='Weight')\n",
    "plt.plot(X,y)\n",
    "plt.plot(X,y_pre)"
   ]
  },
  {
   "cell_type": "code",
   "execution_count": 20,
   "metadata": {},
   "outputs": [],
   "source": [
    "W,B=model.get_weights()"
   ]
  },
  {
   "cell_type": "code",
   "execution_count": 21,
   "metadata": {},
   "outputs": [
    {
     "data": {
      "text/plain": [
       "array([[7.817524]], dtype=float32)"
      ]
     },
     "execution_count": 21,
     "metadata": {},
     "output_type": "execute_result"
    }
   ],
   "source": [
    "W"
   ]
  },
  {
   "cell_type": "code",
   "execution_count": null,
   "metadata": {},
   "outputs": [],
   "source": []
  }
 ],
 "metadata": {
  "kernelspec": {
   "display_name": "Python 3",
   "language": "python",
   "name": "python3"
  },
  "language_info": {
   "codemirror_mode": {
    "name": "ipython",
    "version": 3
   },
   "file_extension": ".py",
   "mimetype": "text/x-python",
   "name": "python",
   "nbconvert_exporter": "python",
   "pygments_lexer": "ipython3",
   "version": "3.7.0"
  }
 },
 "nbformat": 4,
 "nbformat_minor": 2
}
