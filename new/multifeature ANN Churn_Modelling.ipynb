{
 "cells": [
  {
   "cell_type": "code",
   "execution_count": 3,
   "metadata": {},
   "outputs": [
    {
     "name": "stderr",
     "output_type": "stream",
     "text": [
      "Using TensorFlow backend.\n"
     ]
    }
   ],
   "source": [
    "import pandas as pd\n",
    "from sklearn.preprocessing import LabelEncoder, OneHotEncoder\n",
    "from sklearn.model_selection import train_test_split\n",
    "from keras.models import Sequential\n",
    "from keras.layers import Dense\n",
    "from sklearn.metrics import confusion_matrix\n",
    "from keras.optimizers import Adam,SGD"
   ]
  },
  {
   "cell_type": "code",
   "execution_count": 4,
   "metadata": {},
   "outputs": [
    {
     "data": {
      "text/html": [
       "<div>\n",
       "<style scoped>\n",
       "    .dataframe tbody tr th:only-of-type {\n",
       "        vertical-align: middle;\n",
       "    }\n",
       "\n",
       "    .dataframe tbody tr th {\n",
       "        vertical-align: top;\n",
       "    }\n",
       "\n",
       "    .dataframe thead th {\n",
       "        text-align: right;\n",
       "    }\n",
       "</style>\n",
       "<table border=\"1\" class=\"dataframe\">\n",
       "  <thead>\n",
       "    <tr style=\"text-align: right;\">\n",
       "      <th></th>\n",
       "      <th>CreditScore</th>\n",
       "      <th>Geography</th>\n",
       "      <th>Gender</th>\n",
       "      <th>Age</th>\n",
       "      <th>Tenure</th>\n",
       "      <th>Balance</th>\n",
       "      <th>NumOfProducts</th>\n",
       "      <th>HasCrCard</th>\n",
       "      <th>IsActiveMember</th>\n",
       "      <th>EstimatedSalary</th>\n",
       "    </tr>\n",
       "  </thead>\n",
       "  <tbody>\n",
       "    <tr>\n",
       "      <th>0</th>\n",
       "      <td>619</td>\n",
       "      <td>France</td>\n",
       "      <td>Female</td>\n",
       "      <td>42</td>\n",
       "      <td>2</td>\n",
       "      <td>0.00</td>\n",
       "      <td>1</td>\n",
       "      <td>1</td>\n",
       "      <td>1</td>\n",
       "      <td>101348.88</td>\n",
       "    </tr>\n",
       "    <tr>\n",
       "      <th>1</th>\n",
       "      <td>608</td>\n",
       "      <td>Spain</td>\n",
       "      <td>Female</td>\n",
       "      <td>41</td>\n",
       "      <td>1</td>\n",
       "      <td>83807.86</td>\n",
       "      <td>1</td>\n",
       "      <td>0</td>\n",
       "      <td>1</td>\n",
       "      <td>112542.58</td>\n",
       "    </tr>\n",
       "    <tr>\n",
       "      <th>2</th>\n",
       "      <td>502</td>\n",
       "      <td>France</td>\n",
       "      <td>Female</td>\n",
       "      <td>42</td>\n",
       "      <td>8</td>\n",
       "      <td>159660.80</td>\n",
       "      <td>3</td>\n",
       "      <td>1</td>\n",
       "      <td>0</td>\n",
       "      <td>113931.57</td>\n",
       "    </tr>\n",
       "    <tr>\n",
       "      <th>3</th>\n",
       "      <td>699</td>\n",
       "      <td>France</td>\n",
       "      <td>Female</td>\n",
       "      <td>39</td>\n",
       "      <td>1</td>\n",
       "      <td>0.00</td>\n",
       "      <td>2</td>\n",
       "      <td>0</td>\n",
       "      <td>0</td>\n",
       "      <td>93826.63</td>\n",
       "    </tr>\n",
       "    <tr>\n",
       "      <th>4</th>\n",
       "      <td>850</td>\n",
       "      <td>Spain</td>\n",
       "      <td>Female</td>\n",
       "      <td>43</td>\n",
       "      <td>2</td>\n",
       "      <td>125510.82</td>\n",
       "      <td>1</td>\n",
       "      <td>1</td>\n",
       "      <td>1</td>\n",
       "      <td>79084.10</td>\n",
       "    </tr>\n",
       "  </tbody>\n",
       "</table>\n",
       "</div>"
      ],
      "text/plain": [
       "   CreditScore Geography  Gender  Age  Tenure    Balance  NumOfProducts  \\\n",
       "0          619    France  Female   42       2       0.00              1   \n",
       "1          608     Spain  Female   41       1   83807.86              1   \n",
       "2          502    France  Female   42       8  159660.80              3   \n",
       "3          699    France  Female   39       1       0.00              2   \n",
       "4          850     Spain  Female   43       2  125510.82              1   \n",
       "\n",
       "   HasCrCard  IsActiveMember  EstimatedSalary  \n",
       "0          1               1        101348.88  \n",
       "1          0               1        112542.58  \n",
       "2          1               0        113931.57  \n",
       "3          0               0         93826.63  \n",
       "4          1               1         79084.10  "
      ]
     },
     "execution_count": 4,
     "metadata": {},
     "output_type": "execute_result"
    }
   ],
   "source": [
    "dataset=pd.read_csv(\"Churn_Modelling.csv\")\n",
    "y=dataset.iloc[:,-1]\n",
    "X=dataset.iloc[:,3:-1]\n",
    "X.head()"
   ]
  },
  {
   "cell_type": "code",
   "execution_count": 5,
   "metadata": {},
   "outputs": [],
   "source": [
    "#label encoding to give numerical values to string labels\n",
    "label_encoder_x_geo=LabelEncoder()\n",
    "X.iloc[:,1]=label_encoder_x_geo.fit_transform(X.iloc[:,1])\n",
    "label_encoder_x_gen=LabelEncoder()\n",
    "X.iloc[:,2]=label_encoder_x_gen.fit_transform(X.iloc[:,2])"
   ]
  },
  {
   "cell_type": "code",
   "execution_count": 6,
   "metadata": {},
   "outputs": [
    {
     "name": "stderr",
     "output_type": "stream",
     "text": [
      "C:\\Users\\Ankan Bal\\Anaconda3\\lib\\site-packages\\sklearn\\preprocessing\\_encoders.py:368: FutureWarning: The handling of integer data will change in version 0.22. Currently, the categories are determined based on the range [0, max(values)], while in the future they will be determined based on the unique values.\n",
      "If you want the future behaviour and silence this warning, you can specify \"categories='auto'\".\n",
      "In case you used a LabelEncoder before this OneHotEncoder to convert the categories to integers, then you can now use the OneHotEncoder directly.\n",
      "  warnings.warn(msg, FutureWarning)\n",
      "C:\\Users\\Ankan Bal\\Anaconda3\\lib\\site-packages\\sklearn\\preprocessing\\_encoders.py:390: DeprecationWarning: The 'categorical_features' keyword is deprecated in version 0.20 and will be removed in 0.22. You can use the ColumnTransformer instead.\n",
      "  \"use the ColumnTransformer instead.\", DeprecationWarning)\n"
     ]
    }
   ],
   "source": [
    "one_hot_encoder_geo=OneHotEncoder(categorical_features=[1])\n",
    "X = one_hot_encoder_geo.fit_transform(X).toarray()\n",
    "#one_hot_encoder_gen=OneHotEncoder(categorical_features=[2])\n",
    "#X = one_hot_encoder_gen.fit_transform(X).toarray()ff"
   ]
  },
  {
   "cell_type": "code",
   "execution_count": 7,
   "metadata": {},
   "outputs": [
    {
     "data": {
      "text/plain": [
       "(7000, 11)"
      ]
     },
     "execution_count": 7,
     "metadata": {},
     "output_type": "execute_result"
    }
   ],
   "source": [
    "X=X[: ,1:]\n",
    "X_train,X_test,y_train,y_test=train_test_split(X,y,test_size=0.3,random_state=42)\n",
    "X_train.shape"
   ]
  },
  {
   "cell_type": "code",
   "execution_count": 8,
   "metadata": {},
   "outputs": [
    {
     "name": "stdout",
     "output_type": "stream",
     "text": [
      "WARNING:tensorflow:From C:\\Users\\Ankan Bal\\Anaconda3\\lib\\site-packages\\tensorflow\\python\\framework\\op_def_library.py:263: colocate_with (from tensorflow.python.framework.ops) is deprecated and will be removed in a future version.\n",
      "Instructions for updating:\n",
      "Colocations handled automatically by placer.\n"
     ]
    }
   ],
   "source": [
    "classifier=Sequential()\n",
    "#single layer is called perceptron and multiple layer is called dense\n",
    "classifier.add(Dense(units=6,input_shape=(11,),activation='relu'))\n",
    "classifier.add(Dense(units=6,activation='relu'))\n",
    "classifier.add(Dense(units=1,activation='sigmoid'))"
   ]
  },
  {
   "cell_type": "code",
   "execution_count": 9,
   "metadata": {},
   "outputs": [],
   "source": [
    "classifier.compile(optimizer=Adam(), loss='binary_crossentropy', metrics=['accuracy'])"
   ]
  },
  {
   "cell_type": "code",
   "execution_count": 11,
   "metadata": {},
   "outputs": [
    {
     "name": "stdout",
     "output_type": "stream",
     "text": [
      "Epoch 1/100\n",
      "7000/7000 [==============================] - 0s 60us/step - loss: 3.3409 - acc: 0.7924\n",
      "Epoch 2/100\n",
      "7000/7000 [==============================] - 0s 60us/step - loss: 3.3409 - acc: 0.7924\n",
      "Epoch 3/100\n",
      "7000/7000 [==============================] - 1s 80us/step - loss: 3.3408 - acc: 0.7924\n",
      "Epoch 4/100\n",
      "7000/7000 [==============================] - 1s 88us/step - loss: 3.3408 - acc: 0.7924\n",
      "Epoch 5/100\n",
      "7000/7000 [==============================] - 1s 72us/step - loss: 3.3407 - acc: 0.7924\n",
      "Epoch 6/100\n",
      "7000/7000 [==============================] - 0s 69us/step - loss: 3.3407 - acc: 0.7924\n",
      "Epoch 7/100\n",
      "7000/7000 [==============================] - 0s 60us/step - loss: 3.3407 - acc: 0.7924\n",
      "Epoch 8/100\n",
      "7000/7000 [==============================] - 0s 59us/step - loss: 3.3406 - acc: 0.7924\n",
      "Epoch 9/100\n",
      "7000/7000 [==============================] - 0s 59us/step - loss: 3.3406 - acc: 0.7924\n",
      "Epoch 10/100\n",
      "7000/7000 [==============================] - 0s 59us/step - loss: 3.3406 - acc: 0.7924\n",
      "Epoch 11/100\n",
      "7000/7000 [==============================] - 0s 60us/step - loss: 3.3405 - acc: 0.7924\n",
      "Epoch 12/100\n",
      "7000/7000 [==============================] - 0s 64us/step - loss: 3.3405 - acc: 0.7924\n",
      "Epoch 13/100\n",
      "7000/7000 [==============================] - 0s 60us/step - loss: 3.3405 - acc: 0.7924\n",
      "Epoch 14/100\n",
      "7000/7000 [==============================] - 0s 60us/step - loss: 3.3405 - acc: 0.7924\n",
      "Epoch 15/100\n",
      "7000/7000 [==============================] - 0s 59us/step - loss: 3.3404 - acc: 0.7924\n",
      "Epoch 16/100\n",
      "7000/7000 [==============================] - 0s 61us/step - loss: 3.3404 - acc: 0.7924\n",
      "Epoch 17/100\n",
      "7000/7000 [==============================] - 0s 64us/step - loss: 3.3404 - acc: 0.7924\n",
      "Epoch 18/100\n",
      "7000/7000 [==============================] - 0s 60us/step - loss: 3.3404 - acc: 0.7924\n",
      "Epoch 19/100\n",
      "7000/7000 [==============================] - 0s 61us/step - loss: 3.3404 - acc: 0.7924\n",
      "Epoch 20/100\n",
      "7000/7000 [==============================] - 0s 62us/step - loss: 3.3404 - acc: 0.7924\n",
      "Epoch 21/100\n",
      "7000/7000 [==============================] - 0s 60us/step - loss: 3.3403 - acc: 0.7924\n",
      "Epoch 22/100\n",
      "7000/7000 [==============================] - 0s 62us/step - loss: 3.3403 - acc: 0.7924\n",
      "Epoch 23/100\n",
      "7000/7000 [==============================] - 0s 62us/step - loss: 3.3403 - acc: 0.7924\n",
      "Epoch 24/100\n",
      "7000/7000 [==============================] - 0s 62us/step - loss: 3.3403 - acc: 0.7924\n",
      "Epoch 25/100\n",
      "7000/7000 [==============================] - 0s 62us/step - loss: 3.3403 - acc: 0.7924\n",
      "Epoch 26/100\n",
      "7000/7000 [==============================] - 0s 60us/step - loss: 3.3403 - acc: 0.7924\n",
      "Epoch 27/100\n",
      "7000/7000 [==============================] - 0s 63us/step - loss: 3.3403 - acc: 0.7924\n",
      "Epoch 28/100\n",
      "7000/7000 [==============================] - 0s 61us/step - loss: 3.3403 - acc: 0.7924\n",
      "Epoch 29/100\n",
      "7000/7000 [==============================] - 0s 62us/step - loss: 3.3403 - acc: 0.7924\n",
      "Epoch 30/100\n",
      "7000/7000 [==============================] - 0s 61us/step - loss: 3.3402 - acc: 0.7924\n",
      "Epoch 31/100\n",
      "7000/7000 [==============================] - 0s 61us/step - loss: 3.3402 - acc: 0.7924\n",
      "Epoch 32/100\n",
      "7000/7000 [==============================] - 0s 64us/step - loss: 3.3402 - acc: 0.7924\n",
      "Epoch 33/100\n",
      "7000/7000 [==============================] - 0s 64us/step - loss: 3.3402 - acc: 0.7924\n",
      "Epoch 34/100\n",
      "7000/7000 [==============================] - 0s 65us/step - loss: 3.3402 - acc: 0.7924\n",
      "Epoch 35/100\n",
      "7000/7000 [==============================] - 1s 77us/step - loss: 3.3402 - acc: 0.7924\n",
      "Epoch 36/100\n",
      "7000/7000 [==============================] - 1s 87us/step - loss: 3.3402 - acc: 0.7924\n",
      "Epoch 37/100\n",
      "7000/7000 [==============================] - 1s 93us/step - loss: 3.3418 - acc: 0.7924\n",
      "Epoch 38/100\n",
      "7000/7000 [==============================] - 1s 91us/step - loss: 3.3399 - acc: 0.7924\n",
      "Epoch 39/100\n",
      "7000/7000 [==============================] - 0s 67us/step - loss: 3.3400 - acc: 0.7924\n",
      "Epoch 40/100\n",
      "7000/7000 [==============================] - 0s 71us/step - loss: 3.3343 - acc: 0.7924\n",
      "Epoch 41/100\n",
      "7000/7000 [==============================] - 1s 96us/step - loss: 3.3341 - acc: 0.7924\n",
      "Epoch 42/100\n",
      "7000/7000 [==============================] - 1s 74us/step - loss: 3.3345 - acc: 0.7924\n",
      "Epoch 43/100\n",
      "7000/7000 [==============================] - 0s 67us/step - loss: 3.3307 - acc: 0.7924\n",
      "Epoch 44/100\n",
      "7000/7000 [==============================] - 0s 61us/step - loss: 2.8489 - acc: 0.7924\n",
      "Epoch 45/100\n",
      "7000/7000 [==============================] - 0s 59us/step - loss: 2.6753 - acc: 0.7924\n",
      "Epoch 46/100\n",
      "7000/7000 [==============================] - 0s 59us/step - loss: 2.6752 - acc: 0.7924\n",
      "Epoch 47/100\n",
      "7000/7000 [==============================] - 0s 58us/step - loss: 2.6751 - acc: 0.7924\n",
      "Epoch 48/100\n",
      "7000/7000 [==============================] - 0s 60us/step - loss: 2.6751 - acc: 0.7924\n",
      "Epoch 49/100\n",
      "7000/7000 [==============================] - 0s 61us/step - loss: 2.6751 - acc: 0.7924\n",
      "Epoch 50/100\n",
      "7000/7000 [==============================] - 0s 62us/step - loss: 2.6751 - acc: 0.7924\n",
      "Epoch 51/100\n",
      "7000/7000 [==============================] - 0s 61us/step - loss: 2.6751 - acc: 0.7924\n",
      "Epoch 52/100\n",
      "7000/7000 [==============================] - 0s 61us/step - loss: 2.6751 - acc: 0.7924\n",
      "Epoch 53/100\n",
      "7000/7000 [==============================] - 0s 60us/step - loss: 2.6751 - acc: 0.7924\n",
      "Epoch 54/100\n",
      "7000/7000 [==============================] - 0s 58us/step - loss: 2.6751 - acc: 0.7924\n",
      "Epoch 55/100\n",
      "7000/7000 [==============================] - 0s 59us/step - loss: 2.6751 - acc: 0.7924\n",
      "Epoch 56/100\n",
      "7000/7000 [==============================] - 0s 59us/step - loss: 2.6751 - acc: 0.7924\n",
      "Epoch 57/100\n",
      "7000/7000 [==============================] - 0s 61us/step - loss: 2.6751 - acc: 0.7924\n",
      "Epoch 58/100\n",
      "7000/7000 [==============================] - 1s 84us/step - loss: 2.6751 - acc: 0.7924\n",
      "Epoch 59/100\n",
      "7000/7000 [==============================] - 0s 71us/step - loss: 2.6751 - acc: 0.7924\n",
      "Epoch 60/100\n",
      "7000/7000 [==============================] - 0s 65us/step - loss: 2.6751 - acc: 0.7924\n",
      "Epoch 61/100\n",
      "7000/7000 [==============================] - 0s 66us/step - loss: 2.6751 - acc: 0.7924\n",
      "Epoch 62/100\n",
      "7000/7000 [==============================] - 0s 66us/step - loss: 2.6751 - acc: 0.7924\n",
      "Epoch 63/100\n",
      "7000/7000 [==============================] - 0s 65us/step - loss: 2.6751 - acc: 0.7924\n",
      "Epoch 64/100\n",
      "7000/7000 [==============================] - 0s 70us/step - loss: 2.6751 - acc: 0.7924\n",
      "Epoch 65/100\n",
      "7000/7000 [==============================] - 1s 74us/step - loss: 2.6751 - acc: 0.7924\n",
      "Epoch 66/100\n",
      "7000/7000 [==============================] - 0s 62us/step - loss: 2.6751 - acc: 0.7924\n",
      "Epoch 67/100\n",
      "7000/7000 [==============================] - 0s 62us/step - loss: 2.6751 - acc: 0.7924\n",
      "Epoch 68/100\n",
      "7000/7000 [==============================] - 0s 68us/step - loss: 2.6751 - acc: 0.7924\n",
      "Epoch 69/100\n",
      "7000/7000 [==============================] - 0s 66us/step - loss: 2.6751 - acc: 0.7924\n",
      "Epoch 70/100\n",
      "7000/7000 [==============================] - 0s 70us/step - loss: 2.6751 - acc: 0.7924\n",
      "Epoch 71/100\n",
      "7000/7000 [==============================] - 0s 65us/step - loss: 2.6751 - acc: 0.7924\n",
      "Epoch 72/100\n",
      "7000/7000 [==============================] - 0s 65us/step - loss: 2.6751 - acc: 0.7924\n",
      "Epoch 73/100\n",
      "7000/7000 [==============================] - 0s 65us/step - loss: 2.6751 - acc: 0.7924\n",
      "Epoch 74/100\n",
      "7000/7000 [==============================] - 0s 66us/step - loss: 2.6751 - acc: 0.7924\n",
      "Epoch 75/100\n",
      "7000/7000 [==============================] - 0s 66us/step - loss: 2.6751 - acc: 0.7924\n",
      "Epoch 76/100\n",
      "7000/7000 [==============================] - 0s 65us/step - loss: 2.6751 - acc: 0.7924\n",
      "Epoch 77/100\n",
      "7000/7000 [==============================] - 0s 66us/step - loss: 2.6751 - acc: 0.7924\n",
      "Epoch 78/100\n",
      "7000/7000 [==============================] - 0s 66us/step - loss: 2.6751 - acc: 0.7924\n",
      "Epoch 79/100\n",
      "7000/7000 [==============================] - 0s 64us/step - loss: 2.6751 - acc: 0.7924\n",
      "Epoch 80/100\n",
      "7000/7000 [==============================] - 0s 65us/step - loss: 2.6751 - acc: 0.7924\n",
      "Epoch 81/100\n",
      "7000/7000 [==============================] - 0s 69us/step - loss: 2.6751 - acc: 0.7924\n",
      "Epoch 82/100\n",
      "7000/7000 [==============================] - 0s 64us/step - loss: 2.6751 - acc: 0.7924\n",
      "Epoch 83/100\n"
     ]
    },
    {
     "name": "stdout",
     "output_type": "stream",
     "text": [
      "7000/7000 [==============================] - 0s 62us/step - loss: 2.6751 - acc: 0.7924\n",
      "Epoch 84/100\n",
      "7000/7000 [==============================] - 0s 60us/step - loss: 2.6751 - acc: 0.7924\n",
      "Epoch 85/100\n",
      "7000/7000 [==============================] - 0s 61us/step - loss: 2.6751 - acc: 0.7924\n",
      "Epoch 86/100\n",
      "7000/7000 [==============================] - 0s 58us/step - loss: 2.6751 - acc: 0.7924\n",
      "Epoch 87/100\n",
      "7000/7000 [==============================] - 0s 64us/step - loss: 2.6751 - acc: 0.7924\n",
      "Epoch 88/100\n",
      "7000/7000 [==============================] - 0s 60us/step - loss: 2.6751 - acc: 0.7924\n",
      "Epoch 89/100\n",
      "7000/7000 [==============================] - 0s 61us/step - loss: 2.6751 - acc: 0.7924\n",
      "Epoch 90/100\n",
      "7000/7000 [==============================] - 0s 62us/step - loss: 2.6751 - acc: 0.7924\n",
      "Epoch 91/100\n",
      "7000/7000 [==============================] - 0s 61us/step - loss: 2.6751 - acc: 0.7924\n",
      "Epoch 92/100\n",
      "7000/7000 [==============================] - 0s 62us/step - loss: 2.6751 - acc: 0.7924\n",
      "Epoch 93/100\n",
      "7000/7000 [==============================] - 0s 60us/step - loss: 2.6751 - acc: 0.7924\n",
      "Epoch 94/100\n",
      "7000/7000 [==============================] - 0s 61us/step - loss: 2.6751 - acc: 0.7924\n",
      "Epoch 95/100\n",
      "7000/7000 [==============================] - 0s 61us/step - loss: 2.6751 - acc: 0.7924\n",
      "Epoch 96/100\n",
      "7000/7000 [==============================] - 0s 60us/step - loss: 2.6751 - acc: 0.7924\n",
      "Epoch 97/100\n",
      "7000/7000 [==============================] - 0s 60us/step - loss: 2.6751 - acc: 0.7924\n",
      "Epoch 98/100\n",
      "7000/7000 [==============================] - 0s 59us/step - loss: 2.6751 - acc: 0.7924\n",
      "Epoch 99/100\n",
      "7000/7000 [==============================] - 0s 60us/step - loss: 2.6751 - acc: 0.7924\n",
      "Epoch 100/100\n",
      "7000/7000 [==============================] - 0s 61us/step - loss: 2.6751 - acc: 0.7924\n"
     ]
    },
    {
     "data": {
      "text/plain": [
       "<keras.callbacks.History at 0x1752f512f28>"
      ]
     },
     "execution_count": 11,
     "metadata": {},
     "output_type": "execute_result"
    }
   ],
   "source": [
    "classifier.fit(X_train,y_train,epochs=100)"
   ]
  },
  {
   "cell_type": "code",
   "execution_count": 12,
   "metadata": {},
   "outputs": [
    {
     "data": {
      "text/plain": [
       "array([[False],\n",
       "       [False],\n",
       "       [False],\n",
       "       ...,\n",
       "       [False],\n",
       "       [False],\n",
       "       [False]])"
      ]
     },
     "execution_count": 12,
     "metadata": {},
     "output_type": "execute_result"
    }
   ],
   "source": [
    "y_pred=classifier.predict(X_test)\n",
    "y_pred=(y_pred>0.5)\n",
    "y_pred\n"
   ]
  },
  {
   "cell_type": "code",
   "execution_count": 13,
   "metadata": {},
   "outputs": [
    {
     "data": {
      "text/plain": [
       "array([[2416,    0],\n",
       "       [ 584,    0]], dtype=int64)"
      ]
     },
     "execution_count": 13,
     "metadata": {},
     "output_type": "execute_result"
    }
   ],
   "source": [
    "confusion_matrix(y_test,y_pred)"
   ]
  },
  {
   "cell_type": "code",
   "execution_count": 14,
   "metadata": {},
   "outputs": [
    {
     "data": {
      "text/plain": [
       "0.8053333333333333"
      ]
     },
     "execution_count": 14,
     "metadata": {},
     "output_type": "execute_result"
    }
   ],
   "source": [
    "2416/(2416+584)"
   ]
  },
  {
   "cell_type": "code",
   "execution_count": null,
   "metadata": {},
   "outputs": [],
   "source": []
  }
 ],
 "metadata": {
  "kernelspec": {
   "display_name": "Python 3",
   "language": "python",
   "name": "python3"
  },
  "language_info": {
   "codemirror_mode": {
    "name": "ipython",
    "version": 3
   },
   "file_extension": ".py",
   "mimetype": "text/x-python",
   "name": "python",
   "nbconvert_exporter": "python",
   "pygments_lexer": "ipython3",
   "version": "3.7.0"
  }
 },
 "nbformat": 4,
 "nbformat_minor": 2
}
