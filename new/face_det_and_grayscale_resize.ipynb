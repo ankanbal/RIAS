{
 "cells": [
  {
   "cell_type": "code",
   "execution_count": 5,
   "metadata": {},
   "outputs": [],
   "source": [
    "import cv2"
   ]
  },
  {
   "cell_type": "code",
   "execution_count": 6,
   "metadata": {},
   "outputs": [],
   "source": [
    "cap=cv2.VideoCapture(0)\n",
    "face_model=cv2.CascadeClassifier(\"/root/new/haarcascade_frontalface_default.xml\")\n",
    "while True:\n",
    "    ret,photo=cap.read()\n",
    "    xy=face_model.detectMultiScale(photo)\n",
    "    if len(xy)==1:\n",
    "        x0=xy[0][0]\n",
    "        x1=xy[0][0]+xy[0][2]\n",
    "        y0=xy[0][1]\n",
    "        y1=xy[0][1]+xy[0][3]\n",
    "        cv2.rectangle(photo,(x0,y0),(x1,y1),(0,255,0),1)\n",
    "        #cv2.imwrite(\"hi.png\",photo[x0:x1,y0:y1])\n",
    "        cv2.imshow(\"hi\",photo)\n",
    "        if cv2.waitKey(1)==13:\n",
    "            photo=photo[x0:x1,y0:y1]\n",
    "            #cv2.imwrite(\"hi.png\",photo)\n",
    "            photo=cv2.cvtColor(photo,cv2.COLOR_BGR2GRAY)\n",
    "            #cv2.imwrite(\"hi1.png\",photo)\n",
    "            photo=cv2.resize(photo,(200,200f))\n",
    "            cv2.imwrite(\"hi2.png\",photo)\n",
    "            break\n",
    "\n",
    "cv2.destroyAllWindows()"
   ]
  },
  {
   "cell_type": "code",
   "execution_count": 7,
   "metadata": {},
   "outputs": [],
   "source": [
    "cap.release()"
   ]
  },
  {
   "cell_type": "code",
   "execution_count": null,
   "metadata": {},
   "outputs": [],
   "source": []
  }
 ],
 "metadata": {
  "kernelspec": {
   "display_name": "Python 3",
   "language": "python",
   "name": "python3"
  },
  "language_info": {
   "codemirror_mode": {
    "name": "ipython",
    "version": 3
   },
   "file_extension": ".py",
   "mimetype": "text/x-python",
   "name": "python",
   "nbconvert_exporter": "python",
   "pygments_lexer": "ipython3",
   "version": "3.6.6"
  }
 },
 "nbformat": 4,
 "nbformat_minor": 2
}
