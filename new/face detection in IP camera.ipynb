{
 "cells": [
  {
   "cell_type": "code",
   "execution_count": null,
   "metadata": {},
   "outputs": [],
   "source": [
    "import cv2\n",
    "import requests\n",
    "import numpy as np"
   ]
  },
  {
   "cell_type": "code",
   "execution_count": null,
   "metadata": {},
   "outputs": [],
   "source": [
    "url=\"http://192.168.43.1:8080/shot.jpg\"\n",
    "while True:\n",
    "    data=requests.get(url)\n",
    "    myphoto=data.content\n",
    "    tmp=bytearray(myphoto)\n",
    "    photo=np.array(tmp)\n",
    "    final=cv2.imdecode(photo,-1)\n",
    "    cv2.imshow(\"hi\",final)\n",
    "    if cv2.waitKey(1)==13:\n",
    "            break\n",
    "cv2.destroyAllWindows()\n"
   ]
  },
  {
   "cell_type": "code",
   "execution_count": null,
   "metadata": {},
   "outputs": [],
   "source": [
    "face_model=cv2.CascadeClassifier(\"/root/new/haarcascade_frontalface_default.xml\")\n",
    "#type(tmp)"
   ]
  },
  {
   "cell_type": "code",
   "execution_count": null,
   "metadata": {},
   "outputs": [],
   "source": [
    "while True:\n",
    "    data=requests.get(url)\n",
    "    myphoto=data.content\n",
    "    tmp=bytearray(myphoto)\n",
    "    photo=np.array(tmp)\n",
    "    final=cv2.imdecode(photo,-1)\n",
    "    xy=face_model.detectMultiScale(final)\n",
    "    if len(xy)==1:\n",
    "        x0=xy[0][0]\n",
    "        x1=xy[0][0]+xy[0][2]\n",
    "        y0=xy[0][1]\n",
    "        y1=xy[0][1]+xy[0][3]\n",
    "        cv2.rectangle(final,(x0,y0),(x1,y1),(0,255,0),1)\n",
    "        cv2.imshow(\"hi\",final)\n",
    "        if cv2.waitKey(1)==13:\n",
    "            break\n",
    "cv2.destroyAllWindows()"
   ]
  },
  {
   "cell_type": "code",
   "execution_count": null,
   "metadata": {},
   "outputs": [],
   "source": []
  }
 ],
 "metadata": {
  "kernelspec": {
   "display_name": "Python 3",
   "language": "python",
   "name": "python3"
  },
  "language_info": {
   "codemirror_mode": {
    "name": "ipython",
    "version": 3
   },
   "file_extension": ".py",
   "mimetype": "text/x-python",
   "name": "python",
   "nbconvert_exporter": "python",
   "pygments_lexer": "ipython3",
   "version": "3.7.0"
  }
 },
 "nbformat": 4,
 "nbformat_minor": 2
}
